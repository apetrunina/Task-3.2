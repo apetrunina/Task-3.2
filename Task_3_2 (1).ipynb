{
  "nbformat": 4,
  "nbformat_minor": 0,
  "metadata": {
    "colab": {
      "provenance": []
    },
    "kernelspec": {
      "name": "python3",
      "display_name": "Python 3"
    },
    "language_info": {
      "name": "python"
    }
  },
  "cells": [
    {
      "cell_type": "markdown",
      "source": [
        "1) Напишите функцию, которая будет принимать на вход длину стороны квадрата и выводить на экран площадь квадрата и его периметр."
      ],
      "metadata": {
        "id": "OIPGdcrRwjPB"
      }
    },
    {
      "cell_type": "code",
      "source": [
        "def square_info(side_length):\n",
        "    area = side_length ** 2\n",
        "    perimeter = side_length * 4\n",
        "    print(\"Площадь квадрата:\", area)\n",
        "    print(\"Периметр квадрата:\", perimeter)\n",
        "\n",
        "square_info(5)"
      ],
      "metadata": {
        "colab": {
          "base_uri": "https://localhost:8080/"
        },
        "id": "jQvCEk6ywtBl",
        "outputId": "cc709c52-dacc-4d93-e1cb-1335036f2ea7"
      },
      "execution_count": 1,
      "outputs": [
        {
          "output_type": "stream",
          "name": "stdout",
          "text": [
            "Площадь квадрата: 25\n",
            "Периметр квадрата: 20\n"
          ]
        }
      ]
    },
    {
      "cell_type": "markdown",
      "source": [
        "2) Напишите функцию, которая будет принимать два числа и считать сумму квадратов этих двух чисел, запишите своё вычисление в переменную squared."
      ],
      "metadata": {
        "id": "7ddyOowoSvxs"
      }
    },
    {
      "cell_type": "code",
      "source": [
        "def sum_of_squares(num1, num2):\n",
        "    squared = num1 ** 2 + num2 ** 2\n",
        "    return squared\n",
        "\n",
        "result = sum_of_squares(3, 4)\n",
        "print(\"Сумма квадратов:\", result)"
      ],
      "metadata": {
        "colab": {
          "base_uri": "https://localhost:8080/"
        },
        "id": "Sk_AYXLUS2BL",
        "outputId": "cc61ea67-cb1d-44e1-9439-0cf9e7e4a228"
      },
      "execution_count": 2,
      "outputs": [
        {
          "output_type": "stream",
          "name": "stdout",
          "text": [
            "Сумма квадратов: 25\n"
          ]
        }
      ]
    },
    {
      "cell_type": "markdown",
      "source": [
        "3) Напишите функцию, которая будет принимать на вход список [“male“,“male“,“female“,“male“,“male“,“female“,”female“] и возвращать его в обратном порядке. Запишите список в переменную new_list."
      ],
      "metadata": {
        "id": "fBTlizheTf0o"
      }
    },
    {
      "cell_type": "code",
      "source": [
        "def reverse_list(lst):\n",
        "    new_list = lst[::-1]\n",
        "    return new_list\n",
        "\n",
        "original_list = [\"male\", \"male\", \"female\", \"male\", \"male\", \"female\", \"female\"]\n",
        "new_list = reverse_list(original_list)\n",
        "print(\"Исходный список:\", original_list)\n",
        "print(\"Перевернутый список:\", new_list)"
      ],
      "metadata": {
        "colab": {
          "base_uri": "https://localhost:8080/"
        },
        "id": "ncI6ujZtTkB3",
        "outputId": "b0ce929b-997a-4ca6-b669-864890ca2ffd"
      },
      "execution_count": 3,
      "outputs": [
        {
          "output_type": "stream",
          "name": "stdout",
          "text": [
            "Исходный список: ['male', 'male', 'female', 'male', 'male', 'female', 'female']\n",
            "Перевернутый список: ['female', 'female', 'male', 'male', 'female', 'male', 'male']\n"
          ]
        }
      ]
    },
    {
      "cell_type": "markdown",
      "source": [
        "4) Напишите функцию, которая будет принимать на вход список из предыдущего задания(new_list) и выводить на экран количество мужчин или количество женщин в зависимости от требований пользователя.\n",
        "Подсказка: вам необходимо добавить еще один параметр в описание функции."
      ],
      "metadata": {
        "id": "jGBnl0lOTx-F"
      }
    },
    {
      "cell_type": "code",
      "source": [
        "def count_gender(lst, gender):\n",
        "    count = lst.count(gender)\n",
        "    if gender == \"male\":\n",
        "        print(\"Количество мужчин:\", count)\n",
        "    elif gender == \"female\":\n",
        "        print(\"Количество женщин:\", count)\n",
        "\n",
        "count_gender(new_list, \"male\")"
      ],
      "metadata": {
        "colab": {
          "base_uri": "https://localhost:8080/"
        },
        "id": "DZByrfSrT3gx",
        "outputId": "f12a4104-76eb-4a4b-c477-20a471c0688c"
      },
      "execution_count": 4,
      "outputs": [
        {
          "output_type": "stream",
          "name": "stdout",
          "text": [
            "Количество мужчин: 4\n"
          ]
        }
      ]
    },
    {
      "cell_type": "markdown",
      "source": [
        "5) Напишите функцию, которая будет принимать строку (Например: “female”), а возвращать словарь где ключи — это символы строки, а значения кол-во символов в строке."
      ],
      "metadata": {
        "id": "MvwAe8nQU5MI"
      }
    },
    {
      "cell_type": "code",
      "source": [
        "def count_characters(string):\n",
        "    char_counts = {}\n",
        "    for char in string:\n",
        "        if char in char_counts:\n",
        "            char_counts[char] += 1\n",
        "        else:\n",
        "            char_counts[char] = 1\n",
        "    return char_counts\n",
        "\n",
        "input_string = \"female\"\n",
        "result = count_characters(input_string)\n",
        "print(\"Результат:\", result)"
      ],
      "metadata": {
        "colab": {
          "base_uri": "https://localhost:8080/"
        },
        "id": "P8a4KZSsVCOG",
        "outputId": "8cfd8ec9-8e10-4224-cfde-d5abcd973fc2"
      },
      "execution_count": 5,
      "outputs": [
        {
          "output_type": "stream",
          "name": "stdout",
          "text": [
            "Результат: {'f': 1, 'e': 2, 'm': 1, 'a': 1, 'l': 1}\n"
          ]
        }
      ]
    }
  ]
}