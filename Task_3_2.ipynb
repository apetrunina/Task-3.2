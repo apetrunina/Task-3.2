{
  "nbformat": 4,
  "nbformat_minor": 0,
  "metadata": {
    "colab": {
      "provenance": []
    },
    "kernelspec": {
      "name": "python3",
      "display_name": "Python 3"
    },
    "language_info": {
      "name": "python"
    }
  },
  "cells": [
    {
      "cell_type": "markdown",
      "source": [
        "1) Напишите функцию, которая будет принимать на вход длину стороны квадрата и выводить на экран площадь квадрата и его периметр."
      ],
      "metadata": {
        "id": "OIPGdcrRwjPB"
      }
    },
    {
      "cell_type": "code",
      "source": [
        "def square_properties():\n",
        "    # Ввод длины стороны квадрата\n",
        "    side = float(input(\"Введите длину стороны квадрата: \"))\n",
        "\n",
        "    # Расчет площади и периметра\n",
        "    area = side ** 2\n",
        "    perimeter = 4 * side\n",
        "\n",
        "    # Вывод результатов\n",
        "    print(\"Площадь квадрата:\", area)\n",
        "    print(\"Периметр квадрата:\", perimeter)\n",
        "\n",
        "# Вызов функции\n",
        "square_properties()"
      ],
      "metadata": {
        "colab": {
          "base_uri": "https://localhost:8080/"
        },
        "id": "jQvCEk6ywtBl",
        "outputId": "1007d903-b429-4f18-bce6-d894b4dec185"
      },
      "execution_count": null,
      "outputs": [
        {
          "output_type": "stream",
          "name": "stdout",
          "text": [
            "Введите длину стороны квадрата: 5\n",
            "Площадь квадрата: 25.0\n",
            "Периметр квадрата: 20.0\n"
          ]
        }
      ]
    },
    {
      "cell_type": "markdown",
      "source": [
        "2) Напишите функцию, которая будет принимать два числа и считать сумму квадратов этих двух чисел, запишите своё вычисление в переменную squared."
      ],
      "metadata": {
        "id": "7ddyOowoSvxs"
      }
    },
    {
      "cell_type": "code",
      "source": [
        "def sum_of_squares():\n",
        "    num1 = int(input(\"Введите первое число: \"))\n",
        "    num2 = int(input(\"Введите второе число: \"))\n",
        "    squared = num1 ** 2 + num2 ** 2\n",
        "    return squared\n",
        "\n",
        "result = sum_of_squares()\n",
        "print(\"Сумма квадратов:\", result)"
      ],
      "metadata": {
        "colab": {
          "base_uri": "https://localhost:8080/"
        },
        "id": "Sk_AYXLUS2BL",
        "outputId": "650f86d5-7960-4c61-d7b6-37158bb38bbc"
      },
      "execution_count": 2,
      "outputs": [
        {
          "output_type": "stream",
          "name": "stdout",
          "text": [
            "Введите первое число: 3\n",
            "Введите второе число: 4\n",
            "Сумма квадратов: 25\n"
          ]
        }
      ]
    },
    {
      "cell_type": "markdown",
      "source": [
        "3) Напишите функцию, которая будет принимать на вход список [“male“,“male“,“female“,“male“,“male“,“female“,”female“] и возвращать его в обратном порядке. Запишите список в переменную new_list."
      ],
      "metadata": {
        "id": "fBTlizheTf0o"
      }
    },
    {
      "cell_type": "code",
      "source": [
        "def reverse_list(lst):\n",
        "    new_list = lst[::-1]\n",
        "    return new_list\n",
        "\n",
        "original_list = [\"male\", \"male\", \"female\", \"male\", \"male\", \"female\", \"female\"]\n",
        "new_list = reverse_list(original_list)\n",
        "# Вывод результатов\n",
        "print(\"Исходный список:\", original_list)\n",
        "print(\"Перевернутый список:\", new_list)"
      ],
      "metadata": {
        "colab": {
          "base_uri": "https://localhost:8080/"
        },
        "id": "ncI6ujZtTkB3",
        "outputId": "effdd663-4b97-400d-bd26-1f1d5dce5dc0"
      },
      "execution_count": 3,
      "outputs": [
        {
          "output_type": "stream",
          "name": "stdout",
          "text": [
            "Исходный список: ['male', 'male', 'female', 'male', 'male', 'female', 'female']\n",
            "Перевернутый список: ['female', 'female', 'male', 'male', 'female', 'male', 'male']\n"
          ]
        }
      ]
    },
    {
      "cell_type": "markdown",
      "source": [
        "4) Напишите функцию, которая будет принимать на вход список из предыдущего задания(new_list) и выводить на экран количество мужчин или количество женщин в зависимости от требований пользователя.\n",
        "Подсказка: вам необходимо добавить еще один параметр в описание функции."
      ],
      "metadata": {
        "id": "jGBnl0lOTx-F"
      }
    },
    {
      "cell_type": "code",
      "source": [
        "def count_gender(lst, gender):\n",
        "    count = lst.count(gender)\n",
        "    if gender == \"male\":\n",
        "        print(\"Количество мужчин:\", count)\n",
        "    elif gender == \"female\":\n",
        "        print(\"Количество женщин:\", count)\n",
        "\n",
        "count_gender(new_list, input(\"Введите пол (male или female): \"))"
      ],
      "metadata": {
        "colab": {
          "base_uri": "https://localhost:8080/"
        },
        "id": "DZByrfSrT3gx",
        "outputId": "7cc50451-8a13-4594-e700-d333d42d196a"
      },
      "execution_count": 5,
      "outputs": [
        {
          "output_type": "stream",
          "name": "stdout",
          "text": [
            "Введите пол (male или female): female\n",
            "Количество женщин: 3\n"
          ]
        }
      ]
    },
    {
      "cell_type": "markdown",
      "source": [
        "5) Напишите функцию, которая будет принимать строку (Например: “female”), а возвращать словарь где ключи — это символы строки, а значения кол-во символов в строке."
      ],
      "metadata": {
        "id": "MvwAe8nQU5MI"
      }
    },
    {
      "cell_type": "code",
      "source": [
        "def count_characters():\n",
        "    input_string = input(\"Введите строку: \")\n",
        "    characters_count = {}\n",
        "    for char in input_string:\n",
        "        if char in characters_count:\n",
        "            characters_count[char] += 1\n",
        "        else:\n",
        "            characters_count[char] = 1\n",
        "    return characters_count\n",
        "\n",
        "result = count_characters()\n",
        "print(result)"
      ],
      "metadata": {
        "colab": {
          "base_uri": "https://localhost:8080/"
        },
        "id": "P8a4KZSsVCOG",
        "outputId": "dc38f6eb-f815-4cd0-e033-9ab5828768e9"
      },
      "execution_count": 7,
      "outputs": [
        {
          "output_type": "stream",
          "name": "stdout",
          "text": [
            "Введите строку: occupation\n",
            "{'o': 2, 'c': 2, 'u': 1, 'p': 1, 'a': 1, 't': 1, 'i': 1, 'n': 1}\n"
          ]
        }
      ]
    }
  ]
}